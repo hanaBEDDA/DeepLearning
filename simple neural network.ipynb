{
 "cells": [
  {
   "cell_type": "code",
   "execution_count": 12,
   "id": "20f30566",
   "metadata": {},
   "outputs": [],
   "source": [
    "from tensorflow import keras\n",
    "from tensorflow.keras.models import Sequential\n",
    "from tensorflow.keras.layers import  Dense\n",
    "import numpy as np"
   ]
  },
  {
   "cell_type": "code",
   "execution_count": 13,
   "id": "49ddc7ff",
   "metadata": {},
   "outputs": [],
   "source": [
    "# Architecture du réseau\n",
    "# notre réseau s'appelle modele,il est du type Sequential\n",
    "\n",
    "modele = Sequential()"
   ]
  },
  {
   "cell_type": "code",
   "execution_count": 14,
   "id": "f6e2f2ed",
   "metadata": {},
   "outputs": [],
   "source": [
    "# Couches de neurones\n",
    "modele.add(Dense(2, input_dim = 1, activation ='relu'))\n",
    "modele.add(Dense(1,activation = 'relu'))"
   ]
  },
  {
   "cell_type": "code",
   "execution_count": 15,
   "id": "210f8385",
   "metadata": {},
   "outputs": [
    {
     "name": "stdout",
     "output_type": "stream",
     "text": [
      "Model: \"sequential_1\"\n",
      "_________________________________________________________________\n",
      "Layer (type)                 Output Shape              Param #   \n",
      "=================================================================\n",
      "dense_2 (Dense)              (None, 2)                 4         \n",
      "_________________________________________________________________\n",
      "dense_3 (Dense)              (None, 1)                 3         \n",
      "=================================================================\n",
      "Total params: 7\n",
      "Trainable params: 7\n",
      "Non-trainable params: 0\n",
      "_________________________________________________________________\n"
     ]
    }
   ],
   "source": [
    "modele.summary()"
   ]
  },
  {
   "cell_type": "code",
   "execution_count": 16,
   "id": "f0a69d36",
   "metadata": {},
   "outputs": [],
   "source": [
    "#definissions les poids de le couche  0\n",
    "\n",
    "coeff = np.array([[1,-0.5]])\n",
    "biais = np.array([-1,1])\n",
    "poids = [coeff,biais]\n",
    "modele.layers[0].set_weights(poids)"
   ]
  },
  {
   "cell_type": "code",
   "execution_count": 17,
   "id": "efd0fbc4",
   "metadata": {},
   "outputs": [],
   "source": [
    "#deffinission les poids de la couche 1\n",
    "\n",
    "coeff = np.array([[1],[1]])\n",
    "bias = np.array([0])\n",
    "poids = [coeff,bias]\n",
    "modele.layers[1].set_weights(poids)"
   ]
  },
  {
   "cell_type": "code",
   "execution_count": 18,
   "id": "2a2a1d3f",
   "metadata": {},
   "outputs": [
    {
     "name": "stdout",
     "output_type": "stream",
     "text": [
      "[[7.]]\n"
     ]
    }
   ],
   "source": [
    "# évalution\n",
    "\n",
    "entree = np.array([[8]])\n",
    "sortie = modele.predict(entree)\n",
    "print(sortie)"
   ]
  },
  {
   "cell_type": "code",
   "execution_count": 20,
   "id": "8ebe3f93",
   "metadata": {},
   "outputs": [
    {
     "data": {
      "image/png": "[encoded data removed]",
      "text/plain": [
       "<Figure size 640x480 with 1 Axes>"
      ]
     },
     "metadata": {},
     "output_type": "display_data"
    }
   ],
   "source": [
    "#Visualisation\n",
    "\n",
    "import matplotlib.pyplot as plt\n",
    "liste_x = np.linspace(-2,3,num=100)\n",
    "entree = np.array([[x] for x in liste_x])\n",
    "sortie = modele.predict(entree)\n",
    "liste_y = np.array([y[0] for y in sortie])\n",
    "plt.plot(liste_x,liste_y)\n",
    "plt.show()"
   ]
  },
  {
   "cell_type": "code",
   "execution_count": null,
   "id": "f5d7d836",
   "metadata": {},
   "outputs": [],
   "source": []
  }
 ],
 "metadata": {
  "kernelspec": {
   "display_name": "Python 3 (ipykernel)",
   "language": "python",
   "name": "python3"
  },
  "language_info": {
   "codemirror_mode": {
    "name": "ipython",
    "version": 3
   },
   "file_extension": ".py",
   "mimetype": "text/x-python",
   "name": "python",
   "nbconvert_exporter": "python",
   "pygments_lexer": "ipython3",
   "version": "3.7.12"
  }
 },
 "nbformat": 4,
 "nbformat_minor": 5
}
