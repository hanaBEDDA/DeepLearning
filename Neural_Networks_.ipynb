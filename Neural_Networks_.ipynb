{
  "nbformat": 4,
  "nbformat_minor": 0,
  "metadata": {
    "colab": {
      "provenance": []
    },
    "kernelspec": {
      "name": "python3",
      "display_name": "Python 3"
    },
    "language_info": {
      "name": "python"
    },
    "accelerator": "GPU",
    "gpuClass": "standard"
  },
  "cells": [
    {
      "cell_type": "code",
      "execution_count": 1,
      "metadata": {
        "colab": {
          "base_uri": "https://localhost:8080/"
        },
        "id": "Ik6oM1LkrlE4",
        "outputId": "95d16212-a1a5-4167-afe2-27c035db7ec2"
      },
      "outputs": [
        {
          "output_type": "stream",
          "name": "stdout",
          "text": [
            "Colab only includes TensorFlow 2.x; %tensorflow_version has no effect.\n"
          ]
        }
      ],
      "source": [
        "%tensorflow_version 2.x #this line is not required unless you are in a otebook\n",
        "\n",
        "# Tensorflow ant tf.Keras\n",
        "import tensorflow as tf\n",
        "from tensorflow import keras\n",
        "\n",
        "# Helper libraries\n",
        "import numpy as np\n",
        "import matplotlib.pyplot as plt"
      ]
    },
    {
      "cell_type": "markdown",
      "source": [
        "# Dataset"
      ],
      "metadata": {
        "id": "xWgSZgpWsxFO"
      }
    },
    {
      "cell_type": "markdown",
      "source": [
        "For this tutorial we will usw the MNIST Fashion Dataset. This is a dataset that is included in Keras.\n",
        "This dataset includes 60000 images for training and 10000 images for validation/ testing."
      ],
      "metadata": {
        "id": "cdHwo3MUtK7z"
      }
    },
    {
      "cell_type": "code",
      "source": [
        "fashion_mnist = keras.datasets.fashion_mnist  #load dataset\n",
        "\n",
        "(train_images, train_labels),(test_images, test_labels) = fashion_mnist.load_data()  #split into training and testing"
      ],
      "metadata": {
        "colab": {
          "base_uri": "https://localhost:8080/"
        },
        "id": "57G6IurksezG",
        "outputId": "f0c0833c-4381-40b8-9f24-1cd1460bbb80"
      },
      "execution_count": 2,
      "outputs": [
        {
          "output_type": "stream",
          "name": "stdout",
          "text": [
            "Downloading data from https://storage.googleapis.com/tensorflow/tf-keras-datasets/train-labels-idx1-ubyte.gz\n",
            "29515/29515 [==============================] - 0s 0us/step\n",
            "Downloading data from https://storage.googleapis.com/tensorflow/tf-keras-datasets/train-images-idx3-ubyte.gz\n",
            "26421880/26421880 [==============================] - 1s 0us/step\n",
            "Downloading data from https://storage.googleapis.com/tensorflow/tf-keras-datasets/t10k-labels-idx1-ubyte.gz\n",
            "5148/5148 [==============================] - 0s 0us/step\n",
            "Downloading data from https://storage.googleapis.com/tensorflow/tf-keras-datasets/t10k-images-idx3-ubyte.gz\n",
            "4422102/4422102 [==============================] - 0s 0us/step\n"
          ]
        }
      ]
    },
    {
      "cell_type": "code",
      "source": [
        "print(train_images.shape)\n",
        "type(train_images)"
      ],
      "metadata": {
        "colab": {
          "base_uri": "https://localhost:8080/"
        },
        "id": "if04q0HFtCBg",
        "outputId": "4f4b32f4-40bc-4b89-9402-fe6d054b5fc0"
      },
      "execution_count": 3,
      "outputs": [
        {
          "output_type": "stream",
          "name": "stdout",
          "text": [
            "(60000, 28, 28)\n"
          ]
        },
        {
          "output_type": "execute_result",
          "data": {
            "text/plain": [
              "numpy.ndarray"
            ]
          },
          "metadata": {},
          "execution_count": 3
        }
      ]
    },
    {
      "cell_type": "markdown",
      "source": [
        "So we've got 60000 images that are made up of 28x28 pixels(784 in total)"
      ],
      "metadata": {
        "id": "gxprmM78uf01"
      }
    },
    {
      "cell_type": "code",
      "source": [
        "train_images[0,23,23] #let's have a look at one pixel"
      ],
      "metadata": {
        "colab": {
          "base_uri": "https://localhost:8080/"
        },
        "id": "V_ZFjCQhuNpV",
        "outputId": "3e474407-e397-4f17-e459-b5ae4f251245"
      },
      "execution_count": 4,
      "outputs": [
        {
          "output_type": "execute_result",
          "data": {
            "text/plain": [
              "194"
            ]
          },
          "metadata": {},
          "execution_count": 4
        }
      ]
    },
    {
      "cell_type": "markdown",
      "source": [
        "Our pixel values are between 0 and 255, 0 being black and 255 being white. This means we have a grayscake image as these are no color channels."
      ],
      "metadata": {
        "id": "T0eXrkBcvxvj"
      }
    },
    {
      "cell_type": "code",
      "source": [
        "train_labels[:10]  #let's have a look at the first 10 training labels"
      ],
      "metadata": {
        "colab": {
          "base_uri": "https://localhost:8080/"
        },
        "id": "dXNcsvtRuT-x",
        "outputId": "22676a70-dbae-4e60-964e-da9ed0db4a50"
      },
      "execution_count": 5,
      "outputs": [
        {
          "output_type": "execute_result",
          "data": {
            "text/plain": [
              "array([9, 0, 0, 3, 0, 2, 7, 2, 5, 5], dtype=uint8)"
            ]
          },
          "metadata": {},
          "execution_count": 5
        }
      ]
    },
    {
      "cell_type": "code",
      "source": [
        "class_names = ['Tshirt/top','Trouser','Pullover','Dress','Coat','Sandal','Shirt','Sneaker','Bag','Ankle boot']"
      ],
      "metadata": {
        "id": "1r7egAR1wa-x"
      },
      "execution_count": 6,
      "outputs": []
    },
    {
      "cell_type": "code",
      "source": [
        "plt.figure()\n",
        "plt.imshow(train_images[3])\n",
        "plt.colorbar()\n",
        "plt.grid(False)\n",
        "plt.show()"
      ],
      "metadata": {
        "colab": {
          "base_uri": "https://localhost:8080/",
          "height": 265
        },
        "id": "_ts5kTcJxGkO",
        "outputId": "d2c6db51-1062-43fc-ca6e-e15384808888"
      },
      "execution_count": 7,
      "outputs": [
        {
          "output_type": "display_data",
          "data": {
            "text/plain": [
              "<Figure size 432x288 with 2 Axes>"
            ],
            "image/png": "[encoded data removed]"
          },
          "metadata": {
            "needs_background": "light"
          }
        }
      ]
    },
    {
      "cell_type": "markdown",
      "source": [
        "# Data Preprocessing"
      ],
      "metadata": {
        "id": "ebOsW6TmxtdZ"
      }
    },
    {
      "cell_type": "markdown",
      "source": [
        "The last step before creating our model is to preprocess our data. This simply means applying some prior transformations to our data before feeding it the model. In this case we will simpy scale all of our greyscale pixel values(0-255) to be between 0 and 1. We can do this by dividing each value in the training and testing sets by 255. we do this because smaller values will make it easier for the model to process our values.\n"
      ],
      "metadata": {
        "id": "IGNfHeU9Fxqi"
      }
    },
    {
      "cell_type": "code",
      "source": [
        "train_images =  train_images / 255\n",
        "\n",
        "test_images = test_images / 255"
      ],
      "metadata": {
        "id": "zbbXN_5MxYW4"
      },
      "execution_count": 8,
      "outputs": []
    },
    {
      "cell_type": "markdown",
      "source": [
        "# Building the Model"
      ],
      "metadata": {
        "id": "CGDUFFzvHhB4"
      }
    },
    {
      "cell_type": "markdown",
      "source": [
        "We are going to use a Keras sequential model with three different layers. This model represents a feed-forward neural network, we'll break down each layer and its architecture below."
      ],
      "metadata": {
        "id": "lCXZNaTlH9Ic"
      }
    },
    {
      "cell_type": "code",
      "source": [
        "model = keras.Sequential([\n",
        "    keras.layers.Flatten(input_shape =(28, 28)), #input layer (1)\n",
        "    keras.layers.Dense(128, activation = 'relu'), #input layer (2)\n",
        "    keras.layers.Dense(10, activation = 'softmax') #output layer(3)\n",
        "])"
      ],
      "metadata": {
        "id": "JU2W5y7dHN5A"
      },
      "execution_count": 15,
      "outputs": []
    },
    {
      "cell_type": "markdown",
      "source": [
        "# Compile the Model"
      ],
      "metadata": {
        "id": "fM3qG1G9Kfwc"
      }
    },
    {
      "cell_type": "markdown",
      "source": [
        "The last step in building the model is to define the loss function, Optimizer and metrics we would like to track."
      ],
      "metadata": {
        "id": "U0R4v7fJKnkW"
      }
    },
    {
      "cell_type": "code",
      "source": [
        "model.compile(optimizer = 'adam',\n",
        "              loss = 'sparse_categorical_crossentropy',\n",
        "              metrics = ['accuracy'])\n"
      ],
      "metadata": {
        "id": "BAZfjlVvHTH6"
      },
      "execution_count": 16,
      "outputs": []
    },
    {
      "cell_type": "markdown",
      "source": [
        "Training the model\n"
      ],
      "metadata": {
        "id": "qPgLoM-ZNDmV"
      }
    },
    {
      "cell_type": "code",
      "source": [
        "model.fit(train_images, train_labels, epochs = 10)"
      ],
      "metadata": {
        "colab": {
          "base_uri": "https://localhost:8080/"
        },
        "id": "dGG7--YsLJWc",
        "outputId": "ac2cc2f8-b9c5-47bc-a15f-439533d33d8b"
      },
      "execution_count": 17,
      "outputs": [
        {
          "output_type": "stream",
          "name": "stdout",
          "text": [
            "Epoch 1/10\n",
            "1875/1875 [==============================] - 10s 3ms/step - loss: 0.4932 - accuracy: 0.8282\n",
            "Epoch 2/10\n",
            "1875/1875 [==============================] - 5s 3ms/step - loss: 0.3730 - accuracy: 0.8662\n",
            "Epoch 3/10\n",
            "1875/1875 [==============================] - 5s 3ms/step - loss: 0.3350 - accuracy: 0.8774\n",
            "Epoch 4/10\n",
            "1875/1875 [==============================] - 6s 3ms/step - loss: 0.3101 - accuracy: 0.8863\n",
            "Epoch 5/10\n",
            "1875/1875 [==============================] - 5s 3ms/step - loss: 0.2913 - accuracy: 0.8921\n",
            "Epoch 6/10\n",
            "1875/1875 [==============================] - 5s 3ms/step - loss: 0.2798 - accuracy: 0.8952\n",
            "Epoch 7/10\n",
            "1875/1875 [==============================] - 5s 3ms/step - loss: 0.2674 - accuracy: 0.9010\n",
            "Epoch 8/10\n",
            "1875/1875 [==============================] - 5s 3ms/step - loss: 0.2563 - accuracy: 0.9040\n",
            "Epoch 9/10\n",
            "1875/1875 [==============================] - 6s 3ms/step - loss: 0.2459 - accuracy: 0.9083\n",
            "Epoch 10/10\n",
            "1875/1875 [==============================] - 5s 3ms/step - loss: 0.2386 - accuracy: 0.9106\n"
          ]
        },
        {
          "output_type": "execute_result",
          "data": {
            "text/plain": [
              "<keras.callbacks.History at 0x7f44e0d27f70>"
            ]
          },
          "metadata": {},
          "execution_count": 17
        }
      ]
    },
    {
      "cell_type": "markdown",
      "source": [
        "Evaluating the Model"
      ],
      "metadata": {
        "id": "YBMfzVsuOBzQ"
      }
    },
    {
      "cell_type": "code",
      "source": [
        "test_loss, test_acc = model.evaluate(test_images, test_labels, verbose=1)\n",
        "\n",
        "print('test loss :', test_loss)\n",
        "print('test accuracy: ', test_acc)"
      ],
      "metadata": {
        "colab": {
          "base_uri": "https://localhost:8080/"
        },
        "id": "vnkPy8nXNOUn",
        "outputId": "abfb03f7-09f5-4eb2-afd0-0c1c5eedd80b"
      },
      "execution_count": 20,
      "outputs": [
        {
          "output_type": "stream",
          "name": "stdout",
          "text": [
            "313/313 [==============================] - 1s 4ms/step - loss: 0.3264 - accuracy: 0.8867\n",
            "test loss : 0.3263917863368988\n",
            "test accuracy:  0.8866999745368958\n"
          ]
        }
      ]
    },
    {
      "cell_type": "markdown",
      "source": [
        "Make production"
      ],
      "metadata": {
        "id": "b5QAzZBuPbqS"
      }
    },
    {
      "cell_type": "code",
      "source": [
        "predictions = model.predict(test_images[0])\n",
        "print(predictions)"
      ],
      "metadata": {
        "colab": {
          "base_uri": "https://localhost:8080/"
        },
        "id": "NQ0zheUJOsdX",
        "outputId": "d71161b6-667a-4095-8d0d-a0becd606f7c"
      },
      "execution_count": 24,
      "outputs": [
        {
          "output_type": "stream",
          "name": "stdout",
          "text": [
            "1/1 [==============================] - 0s 21ms/step\n",
            "[[2.4685820e-09 1.2887036e-09 3.3286313e-10 7.4359041e-13 1.5895557e-09\n",
            "  1.4074631e-03 4.1516236e-07 5.1166173e-03 2.9854487e-08 9.9347550e-01]]\n"
          ]
        }
      ]
    },
    {
      "cell_type": "code",
      "source": [
        "print(np.argmax(predictions))\n"
      ],
      "metadata": {
        "colab": {
          "base_uri": "https://localhost:8080/"
        },
        "id": "VqhecQDCPlDe",
        "outputId": "a1e4d48e-a7bf-48a7-fc68-c5c31755cf25"
      },
      "execution_count": 25,
      "outputs": [
        {
          "output_type": "stream",
          "name": "stdout",
          "text": [
            "9\n"
          ]
        }
      ]
    },
    {
      "cell_type": "code",
      "source": [
        "print(class_names[np.argmax(predictions)])"
      ],
      "metadata": {
        "colab": {
          "base_uri": "https://localhost:8080/"
        },
        "id": "Uy_33ewmQLPx",
        "outputId": "c0d8008b-f996-485d-c3df-b65b8fbc84cb"
      },
      "execution_count": 28,
      "outputs": [
        {
          "output_type": "stream",
          "name": "stdout",
          "text": [
            "Ankle boot\n"
          ]
        }
      ]
    },
    {
      "cell_type": "code",
      "source": [
        "plt.figure()\n",
        "plt.imshow(test_images[0])\n",
        "plt.colorbar()\n",
        "plt.grid(False)\n",
        "plt.show()"
      ],
      "metadata": {
        "colab": {
          "base_uri": "https://localhost:8080/",
          "height": 269
        },
        "id": "xxRiGZjLQWhN",
        "outputId": "aa905491-ed19-4f5b-96bd-7635afb0c97a"
      },
      "execution_count": 30,
      "outputs": [
        {
          "output_type": "display_data",
          "data": {
            "text/plain": [
              "<Figure size 432x288 with 2 Axes>"
            ],
            "image/png": "[encoded data removed]"
          },
          "metadata": {
            "needs_background": "light"
          }
        }
      ]
    },
    {
      "cell_type": "markdown",
      "source": [
        "# Verfying Predictions"
      ],
      "metadata": {
        "id": "NqIAOIkmSR-L"
      }
    },
    {
      "cell_type": "markdown",
      "source": [
        "I've written a small function here to help us verify predictions with some simple visuals."
      ],
      "metadata": {
        "id": "HqSXja69Shh2"
      }
    },
    {
      "cell_type": "code",
      "source": [
        "color = 'white'\n",
        "plt.rcParams['text.color'] = color\n",
        "plt.rcParams['axes.labelcolor'] = color\n",
        "\n",
        "def predict(model, image, correct_label):\n",
        "  class_names = ['Tshirt/top','Trouser','Pullover','Dress','Coat','Sandal','Shirt','Sneaker','Bag','Ankle boot']\n",
        "\n",
        "  prediction =model.predict(np.array([image]))\n",
        "  predicted_class = class_names[np.argmax(prediction)]\n",
        "\n",
        "  show_image(image, class_names[correct_label], predicted_class)\n",
        "\n",
        "\n",
        "\n",
        "def show_image(img, label, guess):\n",
        "  plt.figure()\n",
        "  plt.imshow(img, cmap=plt.cm.binary)\n",
        "  plt.title(\"Excpected:\"+ label)\n",
        "  plt.xlabel(\"Guess:\"+ guess)\n",
        "  plt.colorbar()\n",
        "  plt.grid(False)\n",
        "  plt.show()\n",
        "\n",
        "\n",
        "def get_number():\n",
        "  while True:\n",
        "    num = input(\"Pick a number:\")\n",
        "    if num.isdigit():\n",
        "      num = int(num)\n",
        "      if 0<= num <= 1000:\n",
        "        return int(num)\n",
        "    else :\n",
        "      print(\"Try again\")\n",
        "\n",
        "\n",
        "num = get_number()\n",
        "image = test_images[num]\n",
        "label = test_labels[num]\n",
        "\n",
        "predict(model, image, label)\n"
      ],
      "metadata": {
        "colab": {
          "base_uri": "https://localhost:8080/",
          "height": 330
        },
        "id": "BMqnFUBVQ4Ji",
        "outputId": "a577baf9-6c2e-4662-eaac-5a36f746a17c"
      },
      "execution_count": 48,
      "outputs": [
        {
          "output_type": "stream",
          "name": "stdout",
          "text": [
            "Pick a number:45\n",
            "1/1 [==============================] - 0s 22ms/step\n"
          ]
        },
        {
          "output_type": "display_data",
          "data": {
            "text/plain": [
              "<Figure size 432x288 with 2 Axes>"
            ],
            "image/png": "[encoded data removed]"
          },
          "metadata": {
            "needs_background": "light"
          }
        }
      ]
    },
    {
      "cell_type": "code",
      "source": [],
      "metadata": {
        "id": "o6UoTbIzVw3f"
      },
      "execution_count": 35,
      "outputs": []
    }
  ]
}