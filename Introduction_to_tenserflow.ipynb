{
  "cells": [
    {
      "cell_type": "code",
      "execution_count": 37,
      "metadata": {
        "id": "8LoZc9T-eEML"
      },
      "outputs": [],
      "source": [
        "import tensorflow as tf"
      ]
    },
    {
      "cell_type": "code",
      "source": [
        "print(tf.version)"
      ],
      "metadata": {
        "colab": {
          "base_uri": "https://localhost:8080/"
        },
        "id": "hhFGgr7yv1g1",
        "outputId": "e7e801e2-daa9-484e-a12c-1b9c2a74ba1e"
      },
      "execution_count": 45,
      "outputs": [
        {
          "output_type": "stream",
          "name": "stdout",
          "text": [
            "<module 'tensorflow.compat.v1.version' from '/usr/local/lib/python3.8/dist-packages/tensorflow/_api/v2/compat/v1/version/__init__.py'>\n"
          ]
        }
      ]
    },
    {
      "cell_type": "markdown",
      "metadata": {
        "id": "KWiKgoGXdxiT"
      },
      "source": [
        "# Creating Tensors\n"
      ]
    },
    {
      "cell_type": "code",
      "execution_count": null,
      "metadata": {
        "colab": {
          "background_save": true
        },
        "id": "5VwHh2gkd2K5"
      },
      "outputs": [],
      "source": [
        "string = tf.Variable('this is a string',tf.string)\n",
        "number = tf.Variable(321, tf.int16)\n",
        "floating = tf.Variable(9.32, tf.float64)"
      ]
    },
    {
      "cell_type": "markdown",
      "metadata": {
        "id": "mHp_ON-Ze_3t"
      },
      "source": [
        "# Rank/Degree of Tensors"
      ]
    },
    {
      "cell_type": "markdown",
      "metadata": {
        "id": "9NmdvuDifxf2"
      },
      "source": [
        "Another word for rank is degree, these terms simply mean the number of dimensions involved in the tensor."
      ]
    },
    {
      "cell_type": "code",
      "execution_count": null,
      "metadata": {
        "id": "qnEmkqOreYDs"
      },
      "outputs": [],
      "source": [
        "rank1_tensor = tf.Variable(['test','one','is','donne'], tf.string)\n",
        "rank2_tensor = tf.Variable([['first','second'],['one','two'],['three','four']], tf.string)"
      ]
    },
    {
      "cell_type": "code",
      "execution_count": null,
      "metadata": {
        "colab": {
          "base_uri": "https://localhost:8080/"
        },
        "id": "Tq9emybxgpfJ",
        "outputId": "59de3d2b-7be4-4b0c-af89-a1a88b2b96d4"
      },
      "outputs": [
        {
          "data": {
            "text/plain": [
              "<tf.Tensor: shape=(), dtype=int32, numpy=1>"
            ]
          },
          "execution_count": 11,
          "metadata": {},
          "output_type": "execute_result"
        }
      ],
      "source": [
        "#determine the rank of a tensor \n",
        "tf.rank(rank1_tensor)\n"
      ]
    },
    {
      "cell_type": "code",
      "execution_count": null,
      "metadata": {
        "colab": {
          "base_uri": "https://localhost:8080/"
        },
        "id": "zfgvFL48jGR0",
        "outputId": "377e19c3-5871-4b4c-c534-58c85a41c718"
      },
      "outputs": [
        {
          "data": {
            "text/plain": [
              "<tf.Tensor: shape=(), dtype=int32, numpy=2>"
            ]
          },
          "execution_count": 12,
          "metadata": {},
          "output_type": "execute_result"
        }
      ],
      "source": [
        "tf.rank(rank2_tensor)"
      ]
    },
    {
      "cell_type": "markdown",
      "metadata": {
        "id": "uqzra2x9ieFV"
      },
      "source": [
        "# Shape of tensr"
      ]
    },
    {
      "cell_type": "code",
      "execution_count": null,
      "metadata": {
        "colab": {
          "base_uri": "https://localhost:8080/"
        },
        "id": "WDWLfPewiP1d",
        "outputId": "f0e2f3c6-1224-4d03-ee64-691e21a5810e"
      },
      "outputs": [
        {
          "data": {
            "text/plain": [
              "TensorShape([3, 2])"
            ]
          },
          "execution_count": 16,
          "metadata": {},
          "output_type": "execute_result"
        }
      ],
      "source": [
        "rank2_tensor.shape"
      ]
    },
    {
      "cell_type": "code",
      "execution_count": null,
      "metadata": {
        "colab": {
          "base_uri": "https://localhost:8080/"
        },
        "id": "jbzBc0CBjYm-",
        "outputId": "d9198be0-03b6-41f1-f977-f899bdff7026"
      },
      "outputs": [
        {
          "data": {
            "text/plain": [
              "TensorShape([4])"
            ]
          },
          "execution_count": 14,
          "metadata": {},
          "output_type": "execute_result"
        }
      ],
      "source": [
        "rank1_tensor.shape"
      ]
    },
    {
      "cell_type": "markdown",
      "metadata": {
        "id": "AHdN-l0oksT7"
      },
      "source": [
        "# Changing Shape"
      ]
    },
    {
      "cell_type": "code",
      "execution_count": 31,
      "metadata": {
        "colab": {
          "base_uri": "https://localhost:8080/"
        },
        "id": "XL3jiCQmjsiH",
        "outputId": "2ae746a3-c7bd-4743-d4ce-4bfc5db149ef"
      },
      "outputs": [
        {
          "output_type": "execute_result",
          "data": {
            "text/plain": [
              "<tf.Tensor: shape=(1, 2, 3), dtype=float32, numpy=\n",
              "array([[[1., 1., 1.],\n",
              "        [1., 1., 1.]]], dtype=float32)>"
            ]
          },
          "metadata": {},
          "execution_count": 31
        }
      ],
      "source": [
        "tensor1 = tf.ones([1,2,3])  #tf.ones() creates a shape[1,2,3] tensor full of ones\n",
        "tensor1"
      ]
    },
    {
      "cell_type": "code",
      "execution_count": 30,
      "metadata": {
        "colab": {
          "base_uri": "https://localhost:8080/"
        },
        "id": "OnprqJDMlYMC",
        "outputId": "13243676-7c57-46be-e8c8-0f4059676849"
      },
      "outputs": [
        {
          "output_type": "execute_result",
          "data": {
            "text/plain": [
              "<tf.Tensor: shape=(2, 3, 1), dtype=float32, numpy=\n",
              "array([[[1.],\n",
              "        [1.],\n",
              "        [1.]],\n",
              "\n",
              "       [[1.],\n",
              "        [1.],\n",
              "        [1.]]], dtype=float32)>"
            ]
          },
          "metadata": {},
          "execution_count": 30
        }
      ],
      "source": [
        "tensor2 = tf.reshape(tensor1, [2,3,1])\n",
        "tensor2"
      ]
    },
    {
      "cell_type": "code",
      "execution_count": 47,
      "metadata": {
        "id": "R0FXPEdGmTDb",
        "colab": {
          "base_uri": "https://localhost:8080/"
        },
        "outputId": "ac949037-61cc-4486-b0a4-c4e2fb556070"
      },
      "outputs": [
        {
          "output_type": "execute_result",
          "data": {
            "text/plain": [
              "<tf.Tensor: shape=(3, 2), dtype=float32, numpy=\n",
              "array([[1., 1.],\n",
              "       [1., 1.],\n",
              "       [1., 1.]], dtype=float32)>"
            ]
          },
          "metadata": {},
          "execution_count": 47
        }
      ],
      "source": [
        "tensor3 = tf.reshape(tensor2, [3,-1])\n",
        "tensor3"
      ]
    },
    {
      "cell_type": "code",
      "source": [],
      "metadata": {
        "id": "E-rTctZBuAFG"
      },
      "execution_count": null,
      "outputs": []
    }
  ],
  "metadata": {
    "accelerator": "GPU",
    "colab": {
      "provenance": []
    },
    "gpuClass": "standard",
    "kernelspec": {
      "display_name": "Python 3",
      "name": "python3"
    },
    "language_info": {
      "name": "python"
    }
  },
  "nbformat": 4,
  "nbformat_minor": 0
}