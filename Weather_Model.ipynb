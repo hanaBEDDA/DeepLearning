{
  "nbformat": 4,
  "nbformat_minor": 0,
  "metadata": {
    "colab": {
      "provenance": []
    },
    "kernelspec": {
      "name": "python3",
      "display_name": "Python 3"
    },
    "language_info": {
      "name": "python"
    }
  },
  "cells": [
    {
      "cell_type": "code",
      "execution_count": 1,
      "metadata": {
        "colab": {
          "base_uri": "https://localhost:8080/"
        },
        "id": "9534_g-gOVhm",
        "outputId": "7d32767c-6143-434c-fd68-c65f77d3a6c5"
      },
      "outputs": [
        {
          "output_type": "stream",
          "name": "stdout",
          "text": [
            "Colab only includes TensorFlow 2.x; %tensorflow_version has no effect.\n"
          ]
        }
      ],
      "source": [
        "%tensorflow_version 2.x"
      ]
    },
    {
      "cell_type": "code",
      "source": [
        "import tensorflow_probability as tfp # we are using a different module from tensorflow this time\n",
        "import tensorflow as tf"
      ],
      "metadata": {
        "id": "xdWwT8DcOfPV"
      },
      "execution_count": 2,
      "outputs": []
    },
    {
      "cell_type": "markdown",
      "source": [
        "I will model a simple weather system and try to predict the temperature on each day given the following information.\n",
        "1-Cold days are encoded by a 0 and hot days are encoded by a 1.\n",
        "2-The first day in our sequence has an 80% chance of being cold.\n",
        "3-A cold day has a 30% chance of being followed by a hot day.\n",
        "4-A hot day has a 20% chance of being followed by a cold day.\n",
        "5- On each day the temperature is normally distributed with mean and standard deviation 0 and 5 on a cold day and standard deviation 15 and 10 on a hot day."
      ],
      "metadata": {
        "id": "4gxOf0X0O49D"
      }
    },
    {
      "cell_type": "code",
      "source": [
        "tfd = tfp.distributions # making a shortcut for later on\n",
        "initial_distribution = tfd.Categorical(probs=[0.8, 0.2]) #Refer to point 2 above\n",
        "transition_distribution = tfd.Categorical(probs=[[0.7,0.3],\n",
        "                                                 [0.2, 0.8]])  #refer to points 3 and 4 above\n",
        "observation_distribution = tfd.Normal(loc=[0., 15.],scale=[5., 10.])  #refer to point 5 above"
      ],
      "metadata": {
        "id": "7u4Fo8ZXOvVG"
      },
      "execution_count": 3,
      "outputs": []
    },
    {
      "cell_type": "markdown",
      "source": [
        "Create the Hidden Markov Model"
      ],
      "metadata": {
        "id": "KP3HF_D5T2aC"
      }
    },
    {
      "cell_type": "code",
      "source": [
        "model = tfd.HiddenMarkovModel(\n",
        "    initial_distribution = initial_distribution,\n",
        "    transition_distribution = transition_distribution,\n",
        "    observation_distribution = observation_distribution,\n",
        "    num_steps = 7 #the number of days \n",
        ")"
      ],
      "metadata": {
        "id": "G-dU-x3PTwBE"
      },
      "execution_count": 4,
      "outputs": []
    },
    {
      "cell_type": "code",
      "source": [
        "mean = model.mean()\n",
        "\n",
        "# due to the Tensorflow works on a lower level we need to evaluate part of the graph\n",
        "# From within a session to see the value of this Tensor\n",
        "\n",
        "with tf.compat.v1.Session() as sess:\n",
        "  print(mean.numpy())\n",
        "#he results are temperatures of weather in 7 days"
      ],
      "metadata": {
        "colab": {
          "base_uri": "https://localhost:8080/"
        },
        "id": "EQMR2ZH7U0kZ",
        "outputId": "2c37bbf9-3dff-4602-d6c7-7ab8ba1b51e5"
      },
      "execution_count": 6,
      "outputs": [
        {
          "output_type": "stream",
          "name": "stdout",
          "text": [
            "[3.        5.9999995 7.4999995 8.25      8.625001  8.812501  8.90625  ]\n"
          ]
        }
      ]
    },
    {
      "cell_type": "code",
      "source": [],
      "metadata": {
        "id": "AX9QDdL6V6Jf"
      },
      "execution_count": null,
      "outputs": []
    }
  ]
}